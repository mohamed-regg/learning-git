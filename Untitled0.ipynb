{
  "nbformat": 4,
  "nbformat_minor": 0,
  "metadata": {
    "colab": {
      "provenance": [],
      "authorship_tag": "ABX9TyP5MIuzrOcc+Z3jSkTL9pJ/",
      "include_colab_link": true
    },
    "kernelspec": {
      "name": "python3",
      "display_name": "Python 3"
    },
    "language_info": {
      "name": "python"
    }
  },
  "cells": [
    {
      "cell_type": "markdown",
      "metadata": {
        "id": "view-in-github",
        "colab_type": "text"
      },
      "source": [
        "<a href=\"https://colab.research.google.com/github/mohamed-regg/learning-git/blob/main/Untitled0.ipynb\" target=\"_parent\"><img src=\"https://colab.research.google.com/assets/colab-badge.svg\" alt=\"Open In Colab\"/></a>"
      ]
    },
    {
      "cell_type": "markdown",
      "source": [
        "## Functions and variable"
      ],
      "metadata": {
        "id": "Tgk-L4Fn6h92"
      }
    },
    {
      "cell_type": "code",
      "source": [
        "# Ask user for thier name\n",
        "name = input(\"What's your name? \")\n",
        "\n",
        "# Remove whitespace from str\n",
        "name = name.strip().title()\n",
        "\n",
        "# Capitalize user's name\n",
        "name = name.capitalize()\n",
        "name = name.title()\n",
        "\n",
        "# Say hello to user\n",
        "print(f\"Hello, {name}\")\n",
        "\n"
      ],
      "metadata": {
        "id": "f9w2GEWC6As4"
      },
      "execution_count": null,
      "outputs": []
    },
    {
      "cell_type": "markdown",
      "source": [
        "**variables**"
      ],
      "metadata": {
        "id": "Fh4msepEEZSK"
      }
    },
    {
      "cell_type": "code",
      "source": [
        "\n",
        "x = int(input(\"What's x? \"))\n",
        "y = int(input(\"What's y? \"))\n",
        "\n",
        "a = float(input(\"What's a? \"))\n",
        "b = float(input(\"What's b? \"))\n",
        "\n",
        "\n",
        "print(round(x + y))"
      ],
      "metadata": {
        "colab": {
          "base_uri": "https://localhost:8080/"
        },
        "id": "ZiBWWWceEeHC",
        "outputId": "2a8ac234-8211-40f5-85d1-d13ada9cfe2b"
      },
      "execution_count": 22,
      "outputs": [
        {
          "output_type": "stream",
          "name": "stdout",
          "text": [
            "What's x? 4\n",
            "What's y? 5\n",
            "What's x? 5\n",
            "What's y? 4\n",
            "9\n",
            "What's x? 4\n",
            "What's y? 4\n",
            "What's x? 4\n",
            "What's y? 4\n",
            "8\n"
          ]
        }
      ]
    },
    {
      "cell_type": "markdown",
      "source": [
        "**functions**"
      ],
      "metadata": {
        "id": "FKPN2ZeTPXCU"
      }
    },
    {
      "cell_type": "code",
      "source": [
        "\n",
        "def hello(to = \"world\"):\n",
        "  print(\"hello \", to)\n",
        "\n",
        "hello()\n",
        "name = input(\"What's your name? \")\n",
        "hello(name)\n",
        "\n",
        "def main():\n",
        "  hello()\n",
        "  name = input(\"What's your name? \")\n",
        "  hello(name)\n",
        "\n",
        "main()"
      ],
      "metadata": {
        "colab": {
          "base_uri": "https://localhost:8080/"
        },
        "id": "H_JWgDkIPcWF",
        "outputId": "5f2fe9a4-5c18-428b-e482-9a25e59b7c3f"
      },
      "execution_count": 30,
      "outputs": [
        {
          "output_type": "stream",
          "name": "stdout",
          "text": [
            "hello  world\n",
            "What's your name? mohamed\n",
            "hello  mohamed\n"
          ]
        }
      ]
    },
    {
      "cell_type": "code",
      "source": [
        "def main():\n",
        "  name = input(\"What's your name? \")\n",
        "  hello(name)\n",
        "\n",
        "\n",
        "def hello(name):\n",
        "  print(\"hello \", name)\n",
        "\n",
        "main()\n",
        "hello(name)"
      ],
      "metadata": {
        "id": "0u2JAOpVScX3"
      },
      "execution_count": null,
      "outputs": []
    },
    {
      "cell_type": "code",
      "source": [
        "def main():\n",
        "  x = int(input(\"What's x? \"))\n",
        "  print(\"x squared is \",square(x))\n",
        "\n",
        "def square(n):\n",
        "  return n * n\n",
        "main()"
      ],
      "metadata": {
        "colab": {
          "base_uri": "https://localhost:8080/"
        },
        "id": "lQYdkxnsTefT",
        "outputId": "46219d76-00ca-4064-e75a-edbfdaf908da"
      },
      "execution_count": 37,
      "outputs": [
        {
          "output_type": "stream",
          "name": "stdout",
          "text": [
            "What's x? 5\n",
            "x squared is  25\n"
          ]
        }
      ]
    }
  ]
}