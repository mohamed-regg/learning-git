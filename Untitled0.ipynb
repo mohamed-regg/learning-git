{
  "nbformat": 4,
  "nbformat_minor": 0,
  "metadata": {
    "colab": {
      "provenance": [],
      "authorship_tag": "ABX9TyOGQYsWZ/Bd7V5Vvaepc5eW",
      "include_colab_link": true
    },
    "kernelspec": {
      "name": "python3",
      "display_name": "Python 3"
    },
    "language_info": {
      "name": "python"
    }
  },
  "cells": [
    {
      "cell_type": "markdown",
      "metadata": {
        "id": "view-in-github",
        "colab_type": "text"
      },
      "source": [
        "<a href=\"https://colab.research.google.com/github/mohamed-regg/learning-git/blob/main/Untitled0.ipynb\" target=\"_parent\"><img src=\"https://colab.research.google.com/assets/colab-badge.svg\" alt=\"Open In Colab\"/></a>"
      ]
    },
    {
      "cell_type": "markdown",
      "source": [
        "## Functions and variable"
      ],
      "metadata": {
        "id": "Tgk-L4Fn6h92"
      }
    },
    {
      "cell_type": "code",
      "source": [
        "# Ask user for thier name\n",
        "name = input(\"What's your name? \")\n",
        "\n",
        "# Remove whitespace from str\n",
        "name = name.strip().title()\n",
        "\n",
        "# Capitalize user's name\n",
        "name = name.capitalize()\n",
        "name = name.title()\n",
        "\n",
        "# Say hello to user\n",
        "print(f\"Hello, {name}\")\n",
        "\n"
      ],
      "metadata": {
        "id": "f9w2GEWC6As4"
      },
      "execution_count": null,
      "outputs": []
    },
    {
      "cell_type": "markdown",
      "source": [
        "**Int**"
      ],
      "metadata": {
        "id": "Fh4msepEEZSK"
      }
    },
    {
      "cell_type": "code",
      "source": [
        "x = 1\n",
        "y = 2\n",
        "z = x + y\n",
        "print(z)"
      ],
      "metadata": {
        "colab": {
          "base_uri": "https://localhost:8080/"
        },
        "id": "ZiBWWWceEeHC",
        "outputId": "a952ed6e-0ae3-49c7-f04b-97597223be75"
      },
      "execution_count": 15,
      "outputs": [
        {
          "output_type": "stream",
          "name": "stdout",
          "text": [
            "3\n"
          ]
        }
      ]
    }
  ]
}