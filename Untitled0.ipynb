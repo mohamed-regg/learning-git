{
  "nbformat": 4,
  "nbformat_minor": 0,
  "metadata": {
    "colab": {
      "provenance": [],
      "authorship_tag": "ABX9TyMU24qtHrnAcxcro8ST8xOo",
      "include_colab_link": true
    },
    "kernelspec": {
      "name": "python3",
      "display_name": "Python 3"
    },
    "language_info": {
      "name": "python"
    }
  },
  "cells": [
    {
      "cell_type": "markdown",
      "metadata": {
        "id": "view-in-github",
        "colab_type": "text"
      },
      "source": [
        "<a href=\"https://colab.research.google.com/github/mohamed-regg/learning-git/blob/main/Untitled0.ipynb\" target=\"_parent\"><img src=\"https://colab.research.google.com/assets/colab-badge.svg\" alt=\"Open In Colab\"/></a>"
      ]
    },
    {
      "cell_type": "markdown",
      "source": [
        "## Functions and variable"
      ],
      "metadata": {
        "id": "Tgk-L4Fn6h92"
      }
    },
    {
      "cell_type": "code",
      "source": [
        "# Ask user for thier name\n",
        "name = input(\"What's your name? \")\n",
        "# Say hello to user\n",
        "print(\"Hello, \"+ name)\n",
        "print\n"
      ],
      "metadata": {
        "colab": {
          "base_uri": "https://localhost:8080/"
        },
        "id": "f9w2GEWC6As4",
        "outputId": "0b97d970-bcdb-44e4-9f69-63525eb34af5"
      },
      "execution_count": 5,
      "outputs": [
        {
          "output_type": "stream",
          "name": "stdout",
          "text": [
            "What's your name? mohamed\n",
            "Hello, mohamed\n"
          ]
        }
      ]
    }
  ]
}